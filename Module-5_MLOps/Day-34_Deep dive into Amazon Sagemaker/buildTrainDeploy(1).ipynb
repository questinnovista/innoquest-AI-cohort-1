{
 "cells": [
  {
   "cell_type": "markdown",
   "id": "afcee374-47a8-4ca2-aacf-59352e9087d9",
   "metadata": {},
   "source": [
    "### Download Dataset"
   ]
  },
  {
   "cell_type": "code",
   "execution_count": 1,
   "id": "1b904879-ed3f-4e68-b885-9ca6fbfdd3ac",
   "metadata": {},
   "outputs": [
    {
     "name": "stdout",
     "output_type": "stream",
     "text": [
      "Requirement already satisfied: openpyxl in /opt/conda/lib/python3.11/site-packages (3.1.5)\n",
      "Requirement already satisfied: et-xmlfile in /opt/conda/lib/python3.11/site-packages (from openpyxl) (2.0.0)\n",
      "Requirement already satisfied: xlrd in /opt/conda/lib/python3.11/site-packages (2.0.1)\n"
     ]
    }
   ],
   "source": [
    "!pip install openpyxl\n",
    "!pip install xlrd"
   ]
  },
  {
   "cell_type": "code",
   "execution_count": 9,
   "id": "549c551b-3a3d-41fe-ae26-ada0ca6e7dd3",
   "metadata": {},
   "outputs": [
    {
     "name": "stdout",
     "output_type": "stream",
     "text": [
      "--2025-04-15 06:17:39--  https://archive.ics.uci.edu/ml/machine-learning-databases/00350/default%20of%20credit%20card%20clients.xls\n",
      "Resolving archive.ics.uci.edu (archive.ics.uci.edu)... 128.195.10.252\n",
      "connected. to archive.ics.uci.edu (archive.ics.uci.edu)|128.195.10.252|:443... \n",
      "WARNING: cannot verify archive.ics.uci.edu's certificate, issued by ‘CN=E6,O=Let's Encrypt,C=US’:\n",
      "  Unable to locally verify the issuer's authority.\n",
      "200 OKequest sent, awaiting response... \n",
      "Length: unspecified\n",
      "Saving to: ‘credit_card_default.xls’\n",
      "\n",
      "credit_card_default     [   <=>              ]   5.28M  9.40MB/s    in 0.6s    \n",
      "\n",
      "2025-04-15 06:17:40 (9.40 MB/s) - ‘credit_card_default.xls’ saved [5539328]\n",
      "\n"
     ]
    }
   ],
   "source": [
    "import pandas as pd\n",
    "import boto3\n",
    "import os\n",
    "import sagemaker\n",
    "# Download the dataset\n",
    "!wget https://archive.ics.uci.edu/ml/machine-learning-databases/00350/default%20of%20credit%20card%20clients.xls -O credit_card_default.xls --no-check-certificate\n"
   ]
  },
  {
   "cell_type": "code",
   "execution_count": 3,
   "id": "48f01ce7-37ec-452a-8130-d0406567e0e7",
   "metadata": {},
   "outputs": [],
   "source": [
    "df = pd.read_excel('credit_card_default.xls', header=1)\n",
    "df.to_csv('credit_card_default.csv', index=False)\n"
   ]
  },
  {
   "cell_type": "markdown",
   "id": "57042242-440e-4606-9b12-ab0928bdbeee",
   "metadata": {},
   "source": [
    "#### Use the SageMaker session to upload the dataset to an S3 bucket:​"
   ]
  },
  {
   "cell_type": "code",
   "execution_count": 4,
   "id": "9b9704bc-92c4-4073-9c49-90661dbd663a",
   "metadata": {},
   "outputs": [
    {
     "name": "stdout",
     "output_type": "stream",
     "text": [
      "Bucket in Use  sagemaker-us-east-1-589347638345\n",
      "Dataset uploaded to: s3://sagemaker-us-east-1-589347638345/sagemaker/xgboost-credit/credit_card_default.csv\n"
     ]
    }
   ],
   "source": [
    "\n",
    "\n",
    "session = sagemaker.Session()\n",
    "bucket = session.default_bucket()\n",
    "prefix = 'sagemaker/xgboost-credit'\n",
    "\n",
    "print(\"Bucket in Use \", bucket)\n",
    "# Upload the dataset\n",
    "input_path = session.upload_data('credit_card_default.csv', bucket=bucket, key_prefix=prefix)\n",
    "print(f'Dataset uploaded to: {input_path}')\n"
   ]
  },
  {
   "cell_type": "code",
   "execution_count": 5,
   "id": "dc91235c-bb32-48f5-a2f7-bfed491da415",
   "metadata": {},
   "outputs": [
    {
     "data": {
      "text/html": [
       "<div>\n",
       "<style scoped>\n",
       "    .dataframe tbody tr th:only-of-type {\n",
       "        vertical-align: middle;\n",
       "    }\n",
       "\n",
       "    .dataframe tbody tr th {\n",
       "        vertical-align: top;\n",
       "    }\n",
       "\n",
       "    .dataframe thead th {\n",
       "        text-align: right;\n",
       "    }\n",
       "</style>\n",
       "<table border=\"1\" class=\"dataframe\">\n",
       "  <thead>\n",
       "    <tr style=\"text-align: right;\">\n",
       "      <th></th>\n",
       "      <th>ID</th>\n",
       "      <th>LIMIT_BAL</th>\n",
       "      <th>SEX</th>\n",
       "      <th>EDUCATION</th>\n",
       "      <th>MARRIAGE</th>\n",
       "      <th>AGE</th>\n",
       "      <th>PAY_0</th>\n",
       "      <th>PAY_2</th>\n",
       "      <th>PAY_3</th>\n",
       "      <th>PAY_4</th>\n",
       "      <th>...</th>\n",
       "      <th>BILL_AMT4</th>\n",
       "      <th>BILL_AMT5</th>\n",
       "      <th>BILL_AMT6</th>\n",
       "      <th>PAY_AMT1</th>\n",
       "      <th>PAY_AMT2</th>\n",
       "      <th>PAY_AMT3</th>\n",
       "      <th>PAY_AMT4</th>\n",
       "      <th>PAY_AMT5</th>\n",
       "      <th>PAY_AMT6</th>\n",
       "      <th>default payment next month</th>\n",
       "    </tr>\n",
       "  </thead>\n",
       "  <tbody>\n",
       "    <tr>\n",
       "      <th>0</th>\n",
       "      <td>1</td>\n",
       "      <td>20000</td>\n",
       "      <td>2</td>\n",
       "      <td>2</td>\n",
       "      <td>1</td>\n",
       "      <td>24</td>\n",
       "      <td>2</td>\n",
       "      <td>2</td>\n",
       "      <td>-1</td>\n",
       "      <td>-1</td>\n",
       "      <td>...</td>\n",
       "      <td>0</td>\n",
       "      <td>0</td>\n",
       "      <td>0</td>\n",
       "      <td>0</td>\n",
       "      <td>689</td>\n",
       "      <td>0</td>\n",
       "      <td>0</td>\n",
       "      <td>0</td>\n",
       "      <td>0</td>\n",
       "      <td>1</td>\n",
       "    </tr>\n",
       "    <tr>\n",
       "      <th>1</th>\n",
       "      <td>2</td>\n",
       "      <td>120000</td>\n",
       "      <td>2</td>\n",
       "      <td>2</td>\n",
       "      <td>2</td>\n",
       "      <td>26</td>\n",
       "      <td>-1</td>\n",
       "      <td>2</td>\n",
       "      <td>0</td>\n",
       "      <td>0</td>\n",
       "      <td>...</td>\n",
       "      <td>3272</td>\n",
       "      <td>3455</td>\n",
       "      <td>3261</td>\n",
       "      <td>0</td>\n",
       "      <td>1000</td>\n",
       "      <td>1000</td>\n",
       "      <td>1000</td>\n",
       "      <td>0</td>\n",
       "      <td>2000</td>\n",
       "      <td>1</td>\n",
       "    </tr>\n",
       "    <tr>\n",
       "      <th>2</th>\n",
       "      <td>3</td>\n",
       "      <td>90000</td>\n",
       "      <td>2</td>\n",
       "      <td>2</td>\n",
       "      <td>2</td>\n",
       "      <td>34</td>\n",
       "      <td>0</td>\n",
       "      <td>0</td>\n",
       "      <td>0</td>\n",
       "      <td>0</td>\n",
       "      <td>...</td>\n",
       "      <td>14331</td>\n",
       "      <td>14948</td>\n",
       "      <td>15549</td>\n",
       "      <td>1518</td>\n",
       "      <td>1500</td>\n",
       "      <td>1000</td>\n",
       "      <td>1000</td>\n",
       "      <td>1000</td>\n",
       "      <td>5000</td>\n",
       "      <td>0</td>\n",
       "    </tr>\n",
       "    <tr>\n",
       "      <th>3</th>\n",
       "      <td>4</td>\n",
       "      <td>50000</td>\n",
       "      <td>2</td>\n",
       "      <td>2</td>\n",
       "      <td>1</td>\n",
       "      <td>37</td>\n",
       "      <td>0</td>\n",
       "      <td>0</td>\n",
       "      <td>0</td>\n",
       "      <td>0</td>\n",
       "      <td>...</td>\n",
       "      <td>28314</td>\n",
       "      <td>28959</td>\n",
       "      <td>29547</td>\n",
       "      <td>2000</td>\n",
       "      <td>2019</td>\n",
       "      <td>1200</td>\n",
       "      <td>1100</td>\n",
       "      <td>1069</td>\n",
       "      <td>1000</td>\n",
       "      <td>0</td>\n",
       "    </tr>\n",
       "    <tr>\n",
       "      <th>4</th>\n",
       "      <td>5</td>\n",
       "      <td>50000</td>\n",
       "      <td>1</td>\n",
       "      <td>2</td>\n",
       "      <td>1</td>\n",
       "      <td>57</td>\n",
       "      <td>-1</td>\n",
       "      <td>0</td>\n",
       "      <td>-1</td>\n",
       "      <td>0</td>\n",
       "      <td>...</td>\n",
       "      <td>20940</td>\n",
       "      <td>19146</td>\n",
       "      <td>19131</td>\n",
       "      <td>2000</td>\n",
       "      <td>36681</td>\n",
       "      <td>10000</td>\n",
       "      <td>9000</td>\n",
       "      <td>689</td>\n",
       "      <td>679</td>\n",
       "      <td>0</td>\n",
       "    </tr>\n",
       "  </tbody>\n",
       "</table>\n",
       "<p>5 rows × 25 columns</p>\n",
       "</div>"
      ],
      "text/plain": [
       "   ID  LIMIT_BAL  SEX  EDUCATION  MARRIAGE  AGE  PAY_0  PAY_2  PAY_3  PAY_4  \\\n",
       "0   1      20000    2          2         1   24      2      2     -1     -1   \n",
       "1   2     120000    2          2         2   26     -1      2      0      0   \n",
       "2   3      90000    2          2         2   34      0      0      0      0   \n",
       "3   4      50000    2          2         1   37      0      0      0      0   \n",
       "4   5      50000    1          2         1   57     -1      0     -1      0   \n",
       "\n",
       "   ...  BILL_AMT4  BILL_AMT5  BILL_AMT6  PAY_AMT1  PAY_AMT2  PAY_AMT3  \\\n",
       "0  ...          0          0          0         0       689         0   \n",
       "1  ...       3272       3455       3261         0      1000      1000   \n",
       "2  ...      14331      14948      15549      1518      1500      1000   \n",
       "3  ...      28314      28959      29547      2000      2019      1200   \n",
       "4  ...      20940      19146      19131      2000     36681     10000   \n",
       "\n",
       "   PAY_AMT4  PAY_AMT5  PAY_AMT6  default payment next month  \n",
       "0         0         0         0                           1  \n",
       "1      1000         0      2000                           1  \n",
       "2      1000      1000      5000                           0  \n",
       "3      1100      1069      1000                           0  \n",
       "4      9000       689       679                           0  \n",
       "\n",
       "[5 rows x 25 columns]"
      ]
     },
     "execution_count": 5,
     "metadata": {},
     "output_type": "execute_result"
    }
   ],
   "source": [
    "df.head()"
   ]
  },
  {
   "cell_type": "markdown",
   "id": "5c1a110f-2cfd-416c-bce1-47a5269efe6e",
   "metadata": {},
   "source": [
    "#### Preprocess Data : \n",
    "##### Split the dataset into training and testing sets:"
   ]
  },
  {
   "cell_type": "code",
   "execution_count": 6,
   "id": "e1910339-ed26-49f7-943d-3809d47fd851",
   "metadata": {},
   "outputs": [],
   "source": [
    "from sklearn.model_selection import train_test_split\n",
    "\n",
    "# Separate features and target\n",
    "X = df.drop('default payment next month', axis=1)\n",
    "y = df['default payment next month']\n",
    "\n",
    "# Split the data\n",
    "X_train, X_test, y_train, y_test = train_test_split(X, y, test_size=0.2, random_state=42)\n",
    "\n",
    "# Combine features and target for training and testing\n",
    "train_data = pd.concat([y_train, X_train], axis=1)\n",
    "test_data = pd.concat([y_test, X_test], axis=1)\n",
    "\n",
    "# Save to CSV\n",
    "train_data.to_csv('train.csv', index=False, header=False)\n",
    "test_data.to_csv('test.csv', index=False, header=False)\n"
   ]
  },
  {
   "cell_type": "markdown",
   "id": "338f661d-e34c-46f9-9c1d-77017b85b06e",
   "metadata": {},
   "source": [
    "#### Upload Split Data to S3"
   ]
  },
  {
   "cell_type": "code",
   "execution_count": 7,
   "id": "94ed2ea7-78b0-4d73-9ef8-aedb13a6b140",
   "metadata": {},
   "outputs": [],
   "source": [
    "# Upload training data\n",
    "train_input = session.upload_data('train.csv', bucket=bucket, key_prefix=f'{prefix}/train')\n",
    "\n",
    "# Upload testing data\n",
    "test_input = session.upload_data('test.csv', bucket=bucket, key_prefix=f'{prefix}/test')"
   ]
  },
  {
   "cell_type": "markdown",
   "id": "7912c239-f3a7-4e2b-9207-ebbe08d93dcc",
   "metadata": {},
   "source": [
    "#### Train The Model\n",
    "##### Configure the XGBoost estimator:"
   ]
  },
  {
   "cell_type": "code",
   "execution_count": 12,
   "id": "82f98d7f-66f8-4d3a-9782-c9b068c5ae27",
   "metadata": {},
   "outputs": [],
   "source": [
    "from sagemaker import image_uris\n",
    "from sagemaker.estimator import Estimator\n",
    "\n",
    "# Get the XGBoost image URI\n",
    "xgboost_image_uri = image_uris.retrieve('xgboost', region=session.boto_region_name, version='1.0-1')\n",
    "\n",
    "# Define the estimator\n",
    "xgb_estimator = Estimator(\n",
    "    image_uri=xgboost_image_uri,\n",
    "    # role=sagemaker.get_execution_role(),\n",
    "    role = \"arn:aws:iam::589347638345:role/service-role/AmazonSageMaker-ExecutionRole-20250415T102120\",\n",
    "    instance_count=1,\n",
    "    instance_type='ml.m5.large',\n",
    "    output_path=f's3://{bucket}/{prefix}/output',\n",
    "    sagemaker_session=session\n",
    ")\n",
    "\n",
    "# Set hyperparameters\n",
    "xgb_estimator.set_hyperparameters(\n",
    "    objective='binary:logistic',\n",
    "    num_round=100\n",
    ")\n"
   ]
  },
  {
   "cell_type": "markdown",
   "id": "c2d9dd63-b1d3-48b9-a1b5-7fe3aed9924f",
   "metadata": {},
   "source": [
    "#### Specify the data channels and initiate training"
   ]
  },
  {
   "cell_type": "code",
   "execution_count": 13,
   "id": "73460fbc-c1b8-4d1b-8b56-11570dc3cf53",
   "metadata": {
    "scrolled": true
   },
   "outputs": [
    {
     "name": "stdout",
     "output_type": "stream",
     "text": [
      "2025-04-15 06:20:02 Starting - Starting the training job...\n",
      "2025-04-15 06:20:25 Starting - Preparing the instances for trainingProfilerReport-1744698002: InProgress\n",
      "..\n",
      ".....04-15 06:20:55 Downloading - Downloading input data.\n",
      "..25-04-15 06:21:55 Downloading - Downloading the training image.\n",
      "\u001b[34m[2025-04-15 06:22:24.289 ip-10-0-157-8.ec2.internal:7 INFO utils.py:27] RULE_JOB_STOP_SIGNAL_FILENAME: None\u001b[0m\n",
      "\u001b[34mINFO:sagemaker-containers:Imported framework sagemaker_xgboost_container.training\u001b[0m\n",
      "\u001b[34mINFO:sagemaker-containers:Failed to parse hyperparameter objective value binary:logistic to Json.\u001b[0m\n",
      "\u001b[34mReturning the value itself\u001b[0m\n",
      "\u001b[34mINFO:sagemaker-containers:No GPUs detected (normal if no gpus installed)\u001b[0m\n",
      "\u001b[34mINFO:sagemaker_xgboost_container.training:Running XGBoost Sagemaker in algorithm mode\u001b[0m\n",
      "\u001b[34mINFO:root:Determined delimiter of CSV input is ','\u001b[0m\n",
      "\u001b[34mINFO:root:Determined delimiter of CSV input is ','\u001b[0m\n",
      "\u001b[34mINFO:root:Single node training.\u001b[0m\n",
      "\u001b[34mINFO:root:Train matrix has 24000 rows\u001b[0m\n",
      "\u001b[34m[06:22:24] 24000x24 matrix with 576000 entries loaded from /opt/ml/input/data/train?format=csv&label_column=0&delimiter=,\u001b[0m\n",
      "\u001b[34m[06:22:24] WARNING: /workspace/src/learner.cc:328: \u001b[0m\n",
      "\u001b[34mParameters: { num_round } might not be used.\n",
      "  This may not be accurate due to some parameters are only used in language bindings but\n",
      "  passed down to XGBoost core.  Or some parameters are not used but slip through this\n",
      "  verification. Please open an issue if you find above cases.\u001b[0m\n",
      "\u001b[34m[0]#011train-error:0.17133\u001b[0m\n",
      "\u001b[34m[1]#011train-error:0.17025\u001b[0m\n",
      "\u001b[34m[2]#011train-error:0.16879\u001b[0m\n",
      "\u001b[34m[3]#011train-error:0.16808\u001b[0m\n",
      "\u001b[34m[4]#011train-error:0.16733\u001b[0m\n",
      "\u001b[34m[5]#011train-error:0.16671\u001b[0m\n",
      "\u001b[34m[6]#011train-error:0.16600\u001b[0m\n",
      "\u001b[34m[7]#011train-error:0.16542\u001b[0m\n",
      "\u001b[34m[8]#011train-error:0.16446\u001b[0m\n",
      "\u001b[34m[9]#011train-error:0.16208\u001b[0m\n",
      "\u001b[34m[10]#011train-error:0.16075\u001b[0m\n",
      "\u001b[34m[11]#011train-error:0.16025\u001b[0m\n",
      "\u001b[34m[12]#011train-error:0.16025\u001b[0m\n",
      "\u001b[34m[13]#011train-error:0.16000\u001b[0m\n",
      "\u001b[34m[14]#011train-error:0.15804\u001b[0m\n",
      "\u001b[34m[15]#011train-error:0.15787\u001b[0m\n",
      "\u001b[34m[16]#011train-error:0.15808\u001b[0m\n",
      "\u001b[34m[17]#011train-error:0.15679\u001b[0m\n",
      "\u001b[34m[18]#011train-error:0.15637\u001b[0m\n",
      "\u001b[34m[19]#011train-error:0.15596\u001b[0m\n",
      "\u001b[34m[20]#011train-error:0.15583\u001b[0m\n",
      "\u001b[34m[21]#011train-error:0.15558\u001b[0m\n",
      "\u001b[34m[22]#011train-error:0.15513\u001b[0m\n",
      "\u001b[34m[23]#011train-error:0.15463\u001b[0m\n",
      "\u001b[34m[24]#011train-error:0.15454\u001b[0m\n",
      "\u001b[34m[25]#011train-error:0.15350\u001b[0m\n",
      "\u001b[34m[26]#011train-error:0.15292\u001b[0m\n",
      "\u001b[34m[27]#011train-error:0.15233\u001b[0m\n",
      "\u001b[34m[28]#011train-error:0.15154\u001b[0m\n",
      "\u001b[34m[29]#011train-error:0.15142\u001b[0m\n",
      "\u001b[34m[30]#011train-error:0.15125\u001b[0m\n",
      "\u001b[34m[31]#011train-error:0.15083\u001b[0m\n",
      "\u001b[34m[32]#011train-error:0.14958\u001b[0m\n",
      "\u001b[34m[33]#011train-error:0.14917\u001b[0m\n",
      "\u001b[34m[34]#011train-error:0.14838\u001b[0m\n",
      "\u001b[34m[35]#011train-error:0.14792\u001b[0m\n",
      "\u001b[34m[36]#011train-error:0.14717\u001b[0m\n",
      "\u001b[34m[37]#011train-error:0.14667\u001b[0m\n",
      "\u001b[34m[38]#011train-error:0.14546\u001b[0m\n",
      "\u001b[34m[39]#011train-error:0.14538\u001b[0m\n",
      "\u001b[34m[40]#011train-error:0.14475\u001b[0m\n",
      "\u001b[34m[41]#011train-error:0.14442\u001b[0m\n",
      "\u001b[34m[42]#011train-error:0.14388\u001b[0m\n",
      "\u001b[34m[43]#011train-error:0.14342\u001b[0m\n",
      "\u001b[34m[44]#011train-error:0.14313\u001b[0m\n",
      "\u001b[34m[45]#011train-error:0.14250\u001b[0m\n",
      "\u001b[34m[46]#011train-error:0.14238\u001b[0m\n",
      "\u001b[34m[47]#011train-error:0.14121\u001b[0m\n",
      "\u001b[34m[48]#011train-error:0.14058\u001b[0m\n",
      "\u001b[34m[49]#011train-error:0.13996\u001b[0m\n",
      "\u001b[34m[50]#011train-error:0.13900\u001b[0m\n",
      "\u001b[34m[51]#011train-error:0.13879\u001b[0m\n",
      "\u001b[34m[52]#011train-error:0.13871\u001b[0m\n",
      "\u001b[34m[53]#011train-error:0.13787\u001b[0m\n",
      "\u001b[34m[54]#011train-error:0.13742\u001b[0m\n",
      "\u001b[34m[55]#011train-error:0.13696\u001b[0m\n",
      "\u001b[34m[56]#011train-error:0.13662\u001b[0m\n",
      "\u001b[34m[57]#011train-error:0.13646\u001b[0m\n",
      "\u001b[34m[58]#011train-error:0.13600\u001b[0m\n",
      "\u001b[34m[59]#011train-error:0.13508\u001b[0m\n",
      "\u001b[34m[60]#011train-error:0.13525\u001b[0m\n",
      "\u001b[34m[61]#011train-error:0.13408\u001b[0m\n",
      "\u001b[34m[62]#011train-error:0.13358\u001b[0m\n",
      "\u001b[34m[63]#011train-error:0.13304\u001b[0m\n",
      "\u001b[34m[64]#011train-error:0.13271\u001b[0m\n",
      "\u001b[34m[65]#011train-error:0.13192\u001b[0m\n",
      "\u001b[34m[66]#011train-error:0.13092\u001b[0m\n",
      "\u001b[34m[67]#011train-error:0.13075\u001b[0m\n",
      "\u001b[34m[68]#011train-error:0.13050\u001b[0m\n",
      "\u001b[34m[69]#011train-error:0.12996\u001b[0m\n",
      "\u001b[34m[70]#011train-error:0.12892\u001b[0m\n",
      "\u001b[34m[71]#011train-error:0.12858\u001b[0m\n",
      "\u001b[34m[72]#011train-error:0.12658\u001b[0m\n",
      "\u001b[34m[73]#011train-error:0.12567\u001b[0m\n",
      "\u001b[34m[74]#011train-error:0.12512\u001b[0m\n",
      "\u001b[34m[75]#011train-error:0.12504\u001b[0m\n",
      "\u001b[34m[76]#011train-error:0.12479\u001b[0m\n",
      "\u001b[34m[77]#011train-error:0.12412\u001b[0m\n",
      "\u001b[34m[78]#011train-error:0.12379\u001b[0m\n",
      "\u001b[34m[79]#011train-error:0.12350\u001b[0m\n",
      "\u001b[34m[80]#011train-error:0.12329\u001b[0m\n",
      "\u001b[34m[81]#011train-error:0.12317\u001b[0m\n",
      "\u001b[34m[82]#011train-error:0.12237\u001b[0m\n",
      "\u001b[34m[83]#011train-error:0.12196\u001b[0m\n",
      "\u001b[34m[84]#011train-error:0.12058\u001b[0m\n",
      "\u001b[34m[85]#011train-error:0.11987\u001b[0m\n",
      "\u001b[34m[86]#011train-error:0.11892\u001b[0m\n",
      "\u001b[34m[87]#011train-error:0.11762\u001b[0m\n",
      "\u001b[34m[88]#011train-error:0.11696\u001b[0m\n",
      "\u001b[34m[89]#011train-error:0.11650\u001b[0m\n",
      "\u001b[34m[90]#011train-error:0.11571\u001b[0m\n",
      "\u001b[34m[91]#011train-error:0.11492\u001b[0m\n",
      "\u001b[34m[92]#011train-error:0.11421\u001b[0m\n",
      "\u001b[34m[93]#011train-error:0.11371\u001b[0m\n",
      "\u001b[34m[94]#011train-error:0.11292\u001b[0m\n",
      "\u001b[34m[95]#011train-error:0.11292\u001b[0m\n",
      "\u001b[34m[96]#011train-error:0.11279\u001b[0m\n",
      "\u001b[34m[97]#011train-error:0.11175\u001b[0m\n",
      "\u001b[34m[98]#011train-error:0.11117\u001b[0m\n",
      "\u001b[34m[99]#011train-error:0.11067\u001b[0m\n",
      "\n",
      "2025-04-15 06:22:55 Uploading - Uploading generated training model\n",
      "2025-04-15 06:22:55 Completed - Training job completed\n",
      "Training seconds: 119\n",
      "Billable seconds: 119\n"
     ]
    }
   ],
   "source": [
    "from sagemaker.inputs import TrainingInput\n",
    "\n",
    "# Define data channels\n",
    "train_channel = TrainingInput(train_input, content_type='csv')\n",
    "\n",
    "# Start training\n",
    "xgb_estimator.fit({'train': train_channel})\n"
   ]
  },
  {
   "cell_type": "markdown",
   "id": "f68c42ae-0cf2-45e8-852d-7673c3b4c98c",
   "metadata": {},
   "source": [
    "#### Deploy the model to a real-time inference endpoint"
   ]
  },
  {
   "cell_type": "code",
   "execution_count": null,
   "id": "fe88769e-6840-42ee-9ee6-5ff5f8abab69",
   "metadata": {},
   "outputs": [
    {
     "name": "stdout",
     "output_type": "stream",
     "text": [
      "---"
     ]
    }
   ],
   "source": [
    "from sagemaker.serializers import CSVSerializer\n",
    "\n",
    "# xgb_predictor = xgb_estimator.deploy(\n",
    "#     initial_instance_count=1,\n",
    "#     instance_type='ml.m5.large'\n",
    "# )\n",
    "\n",
    "xgb_predictor = xgb_estimator.deploy(\n",
    "    initial_instance_count=1,\n",
    "    instance_type='ml.m5.large',\n",
    "    serializer=CSVSerializer()\n",
    ")\n"
   ]
  },
  {
   "cell_type": "code",
   "execution_count": null,
   "id": "f57688f2-850c-41ae-b966-de5e24926763",
   "metadata": {},
   "outputs": [],
   "source": []
  },
  {
   "cell_type": "code",
   "execution_count": null,
   "id": "d1dfeee1-3ebc-417d-9384-31834ebc960f",
   "metadata": {},
   "outputs": [],
   "source": []
  },
  {
   "cell_type": "markdown",
   "id": "5d7a145b-ad57-46ed-9b4e-72bd1fbc6c21",
   "metadata": {},
   "source": [
    "#### Use the deployed endpoint to make predictions"
   ]
  },
  {
   "cell_type": "code",
   "execution_count": null,
   "id": "c4ba5c82-7344-4a86-9c63-f6ce2978583f",
   "metadata": {},
   "outputs": [],
   "source": [
    "import pandas as pd\n",
    "\n",
    "# Assuming X_test is your test DataFrame\n",
    "sample = X_test.iloc[0]\n",
    "sample_df = pd.DataFrame([sample])\n",
    "sample_csv = sample_df.to_csv(header=False, index=False)\n",
    "\n",
    "\n",
    "prediction = xgb_predictor.predict(sample_csv)\n",
    "print(prediction)"
   ]
  },
  {
   "cell_type": "code",
   "execution_count": null,
   "id": "7e869916-024f-40da-8da7-8fb7eab5d3ed",
   "metadata": {},
   "outputs": [],
   "source": [
    "probability = float(prediction.decode('utf-8'))\n",
    "\n",
    "# Apply threshold\n",
    "threshold = 0.5\n",
    "predicted_class = int(probability >= threshold)\n",
    "\n",
    "print(f\"Predicted class: {predicted_class}\")"
   ]
  },
  {
   "cell_type": "code",
   "execution_count": null,
   "id": "f8ef5fab-e33c-4638-b1d6-14ece2f39aca",
   "metadata": {},
   "outputs": [],
   "source": [
    "y_test.iloc[0]"
   ]
  },
  {
   "cell_type": "markdown",
   "id": "a2334a9c-43b7-425e-b151-550262f90a66",
   "metadata": {},
   "source": [
    "#### To avoid incurring charges delete the endpoint when done"
   ]
  },
  {
   "cell_type": "code",
   "execution_count": null,
   "id": "cf193a49-0c8f-4f01-a823-5587f2de23cb",
   "metadata": {},
   "outputs": [],
   "source": [
    "# Delete the endpoint\n",
    "xgb_predictor.delete_endpoint()\n"
   ]
  },
  {
   "cell_type": "code",
   "execution_count": null,
   "id": "48795def-d855-4815-bf41-bbf695294668",
   "metadata": {},
   "outputs": [],
   "source": []
  }
 ],
 "metadata": {
  "kernelspec": {
   "display_name": "Python 3 (ipykernel)",
   "language": "python",
   "name": "python3"
  },
  "language_info": {
   "codemirror_mode": {
    "name": "ipython",
    "version": 3
   },
   "file_extension": ".py",
   "mimetype": "text/x-python",
   "name": "python",
   "nbconvert_exporter": "python",
   "pygments_lexer": "ipython3",
   "version": "3.11.11"
  }
 },
 "nbformat": 4,
 "nbformat_minor": 5
}
