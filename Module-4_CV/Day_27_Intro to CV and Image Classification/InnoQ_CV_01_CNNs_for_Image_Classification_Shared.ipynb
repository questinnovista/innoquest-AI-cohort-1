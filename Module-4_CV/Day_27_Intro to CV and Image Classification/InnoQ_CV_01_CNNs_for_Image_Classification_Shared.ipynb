{
  "cells": [
    {
      "cell_type": "markdown",
      "metadata": {
        "id": "12TJQuboXZKY"
      },
      "source": [
        "# Computer Vision - CNNs for Image Classification"
      ]
    },
    {
      "cell_type": "markdown",
      "metadata": {
        "id": "4twTEqOmX8EA"
      },
      "source": [
        "## Dataset: CIFAR10 | Framework: Keras (Tensorflow)"
      ]
    },
    {
      "cell_type": "code",
      "execution_count": null,
      "metadata": {
        "id": "j5aMwbAzXTyt"
      },
      "outputs": [],
      "source": [
        "import numpy as np\n",
        "import pandas as pd\n",
        "import matplotlib.pyplot as plt\n",
        "import seaborn as sns\n",
        "\n",
        "import tensorflow as tf\n",
        "from tensorflow.keras import layers, models, Input\n",
        "from tensorflow.keras.optimizers import Adam\n",
        "from tensorflow.keras.callbacks import EarlyStopping, ReduceLROnPlateau\n",
        "from tensorflow.keras.preprocessing.image import ImageDataGenerator\n",
        "from tensorflow.keras.models import clone_model, Model\n",
        "from sklearn.model_selection import train_test_split"
      ]
    },
    {
      "cell_type": "code",
      "execution_count": null,
      "metadata": {
        "id": "xJNa80-oXXiH"
      },
      "outputs": [],
      "source": [
        "cifar10 = tf.keras.datasets.cifar10\n",
        "(X_train, y_train), (X_test, y_test) = cifar10.load_data()"
      ]
    },
    {
      "cell_type": "code",
      "execution_count": null,
      "metadata": {
        "id": "pPGPGgObYw0v"
      },
      "outputs": [],
      "source": [
        "print(f\"Training set shape: {X_train.shape}\")\n",
        "print(f\"Test set shape: {X_test.shape}\")\n",
        "print(f\"Traning set labels: {y_train.shape}\")\n",
        "print(f\"Test set labels: {tf.keras.datasets.shape}\")"
      ]
    },
    {
      "cell_type": "code",
      "execution_count": null,
      "metadata": {
        "id": "AKDdmA0H843M"
      },
      "outputs": [],
      "source": [
        "y_test[0]"
      ]
    },
    {
      "cell_type": "code",
      "execution_count": null,
      "metadata": {
        "id": "ZgfQISSjZjCw"
      },
      "outputs": [],
      "source": [
        "class_names = ['airplane', 'automobile', 'bird', 'cat', 'deer', 'dog', 'frog', 'horse', 'ship', 'truck']"
      ]
    },
    {
      "cell_type": "code",
      "execution_count": null,
      "metadata": {
        "id": "sWmruEE0Zp1f"
      },
      "outputs": [],
      "source": [
        "plt.figure(figsize=(15,15))\n",
        "\n",
        "for i in range(64):\n",
        "    plt.subplot(8, 8, i+1)\n",
        "    plt.xticks([])\n",
        "    plt.yticks([])\n",
        "    plt.grid(False)\n",
        "\n",
        "    plt.imshow(X_train[i])\n",
        "\n",
        "    plt.title(class_names[y_train[i][0]], fontsize=12)\n",
        "\n",
        "plt.show()"
      ]
    },
    {
      "cell_type": "code",
      "execution_count": null,
      "metadata": {
        "id": "2RbobjJJ9pXO"
      },
      "outputs": [],
      "source": [
        "X_test.shape"
      ]
    },
    {
      "cell_type": "code",
      "execution_count": null,
      "metadata": {
        "id": "8dJ87hSPZvZ_"
      },
      "outputs": [],
      "source": [
        "# what is an image?\n",
        "X_train[1][0][2]"
      ]
    },
    {
      "cell_type": "code",
      "execution_count": null,
      "metadata": {
        "id": "rDhnCCULaC0p"
      },
      "outputs": [],
      "source": [
        "np.max(X_train), np.min(X_train)"
      ]
    },
    {
      "cell_type": "code",
      "execution_count": null,
      "metadata": {
        "id": "eoKci0YHaj83"
      },
      "outputs": [],
      "source": [
        "X_train = X_train.astype('float32') / 255.0\n",
        "X_test = X_test.astype('float32') / 255.0"
      ]
    },
    {
      "cell_type": "code",
      "execution_count": null,
      "metadata": {
        "id": "bOzk-6s_iENC"
      },
      "outputs": [],
      "source": [
        "np.max(X_train), np.min(X_train)"
      ]
    },
    {
      "cell_type": "code",
      "execution_count": null,
      "metadata": {
        "id": "kA9rP_4z_WzM"
      },
      "outputs": [],
      "source": [
        "np.unique(y_train, return_counts=True)"
      ]
    },
    {
      "cell_type": "code",
      "execution_count": null,
      "metadata": {
        "id": "tPvTqNCPa0Pn"
      },
      "outputs": [],
      "source": [
        "unique, counts = np.unique(y_train, return_counts=True)"
      ]
    },
    {
      "cell_type": "code",
      "execution_count": null,
      "metadata": {
        "id": "uTALWI3fa7lv"
      },
      "outputs": [],
      "source": [
        "dict(zip(unique, counts))"
      ]
    },
    {
      "cell_type": "markdown",
      "metadata": {
        "id": "huOeFCe_cUYo"
      },
      "source": [
        "## 1. MLP for Image Classification"
      ]
    },
    {
      "cell_type": "code",
      "execution_count": null,
      "metadata": {
        "id": "yhVf92uybU8w"
      },
      "outputs": [],
      "source": [
        "mlp_model = models.Sequential(name=\"MLP_model\")\n",
        "\n",
        "mlp_model.add(layers.InputLayer(input_shape=(32, 32, 3)))\n",
        "mlp_model.add(layers.Flatten())\n",
        "mlp_model.add(layers.Dense(512, activation='relu'))\n",
        "mlp_model.add(layers.Dense(256, activation='relu'))\n",
        "mlp_model.add(layers.Dense(128, activation='relu'))\n",
        "mlp_model.add(layers.Dense(10, activation='softmax'))\n",
        "\n",
        "optimizer = Adam(learning_rate=0.001)\n",
        "\n",
        "mlp_model.compile(optimizer=optimizer,\n",
        "              loss='sparse_categorical_crossentropy',\n",
        "              metrics=['accuracy'])\n",
        "\n",
        "mlp_model.summary()"
      ]
    },
    {
      "cell_type": "code",
      "execution_count": null,
      "metadata": {
        "id": "Z0Pe0S8ccjMY"
      },
      "outputs": [],
      "source": [
        "mlp_history = mlp_model.fit(X_train,\n",
        "                            y_train,\n",
        "                            epochs=50,\n",
        "                            batch_size=256,\n",
        "                            validation_split=0.1\n",
        "                            )"
      ]
    },
    {
      "cell_type": "code",
      "execution_count": null,
      "metadata": {
        "id": "mrYPIQqUdciA"
      },
      "outputs": [],
      "source": [
        "test_loss, test_accuracy = mlp_model.evaluate(X_test, y_test)\n",
        "print(\"Test Loss:\", test_loss)\n",
        "print(\"Test Accuracy:\", test_accuracy)"
      ]
    },
    {
      "cell_type": "code",
      "execution_count": null,
      "metadata": {
        "id": "J5aRN39kdstv"
      },
      "outputs": [],
      "source": [
        "plt.figure(figsize=(12, 6))\n",
        "plt.subplot(1, 2, 1)\n",
        "plt.plot(mlp_history.history['loss'], label='Training Loss')\n",
        "plt.plot(mlp_history.history['val_loss'], label='Validation Loss')\n",
        "plt.title('Training and Validation Loss')\n",
        "plt.xlabel('Epochs')\n",
        "plt.ylabel('Loss')\n",
        "plt.legend()\n",
        "\n",
        "plt.subplot(1, 2, 2)\n",
        "plt.plot(mlp_history.history['accuracy'], label='Training Accuracy')\n",
        "plt.plot(mlp_history.history['val_accuracy'], label='Validation Accuracy')\n",
        "plt.title('Training and Validation Accuracy')\n",
        "plt.xlabel('Epochs')\n",
        "plt.ylabel('Accuracy')\n",
        "plt.legend()\n",
        "\n",
        "plt.tight_layout()\n",
        "plt.show()"
      ]
    },
    {
      "cell_type": "code",
      "execution_count": null,
      "metadata": {
        "id": "KF4jVvgXg7XR"
      },
      "outputs": [],
      "source": [
        "predictions_mlp = mlp_model.predict(X_test)\n",
        "predicted_labels_mlp = np.argmax(predictions_mlp, axis=1)"
      ]
    },
    {
      "cell_type": "code",
      "execution_count": null,
      "metadata": {
        "id": "RKxSXFqdjzPZ"
      },
      "outputs": [],
      "source": [
        "# what are the predictions?\n",
        "predicted_labels_mlp[1]"
      ]
    },
    {
      "cell_type": "code",
      "execution_count": null,
      "metadata": {
        "id": "P_e8FK6Vj3IA"
      },
      "outputs": [],
      "source": [
        "plt.figure(figsize=(10, 10))\n",
        "for i in range(25):\n",
        "    plt.subplot(5, 5, i + 1)\n",
        "    plt.xticks([])\n",
        "    plt.yticks([])\n",
        "    plt.grid(False)\n",
        "    plt.imshow(X_test[i])\n",
        "    true_label = class_names[y_test[i][0]]\n",
        "    predicted_label_mlp = class_names[predicted_labels_mlp[i]]\n",
        "    if true_label == predicted_label_mlp:\n",
        "        color = 'green'\n",
        "    else:\n",
        "        color = 'red'\n",
        "    plt.xlabel(f\"True: {true_label}\\nPred (MLP): {predicted_label_mlp}\", color=color)\n",
        "plt.tight_layout()\n",
        "plt.show()"
      ]
    },
    {
      "cell_type": "code",
      "execution_count": null,
      "metadata": {
        "id": "uPROwCYcpf0o"
      },
      "outputs": [],
      "source": [
        "from sklearn.metrics import classification_report,confusion_matrix\n",
        "\n",
        "mat = confusion_matrix(y_test, predicted_labels_mlp)\n",
        "plt.figure(figsize=(8, 8)); sns.set()\n",
        "sns.heatmap(mat.T, square=True, annot=True, fmt='d', cbar=False, xticklabels=class_names, yticklabels=class_names)\n",
        "plt.xlabel('true label'); plt.ylabel('predicted label'); plt.show()"
      ]
    },
    {
      "cell_type": "code",
      "execution_count": null,
      "metadata": {
        "id": "x74n9Qpnpm93"
      },
      "outputs": [],
      "source": [
        "print(classification_report(y_test, predicted_labels_mlp, target_names=class_names))"
      ]
    },
    {
      "cell_type": "markdown",
      "metadata": {
        "id": "z2rAQOGtpsb4"
      },
      "source": [
        "## 2. CNN for Image Classification"
      ]
    },
    {
      "cell_type": "code",
      "execution_count": null,
      "metadata": {
        "id": "AOJt7Vixppuf"
      },
      "outputs": [],
      "source": [
        "cnn_model = models.Sequential(name=\"CNN_model\")\n",
        "\n",
        "cnn_model.add(layers.InputLayer(input_shape=(32, 32, 3)))\n",
        "cnn_model.add(layers.Conv2D(32, (3, 3), activation='relu', padding='same'))\n",
        "cnn_model.add(layers.Conv2D(64, (3, 3), activation='relu', padding='same'))\n",
        "cnn_model.add(layers.MaxPooling2D((2, 2)))\n",
        "cnn_model.add(layers.Dropout(0.25))\n",
        "cnn_model.add(layers.Conv2D(64, (3, 3), activation='relu', padding='same'))\n",
        "cnn_model.add(layers.MaxPooling2D((2, 2)))\n",
        "cnn_model.add(layers.Dropout(0.25))\n",
        "\n",
        "cnn_model.add(layers.Flatten())\n",
        "\n",
        "cnn_model.add(layers.Dense(128, activation='relu'))\n",
        "cnn_model.add(layers.Dropout(0.5))\n",
        "cnn_model.add(layers.Dense(10, activation='softmax'))\n",
        "\n",
        "optimizer = Adam(learning_rate=0.001)\n",
        "cnn_model.compile(optimizer=optimizer,\n",
        "              loss='sparse_categorical_crossentropy',\n",
        "              metrics=['accuracy'])\n",
        "\n",
        "cnn_model.summary()"
      ]
    },
    {
      "cell_type": "code",
      "execution_count": null,
      "metadata": {
        "id": "oKd5cSpHp3GP"
      },
      "outputs": [],
      "source": [
        "cnn_history = cnn_model.fit(X_train, y_train,\n",
        "                    epochs=50,\n",
        "                    batch_size=128,\n",
        "                    validation_split=0.1)"
      ]
    },
    {
      "cell_type": "code",
      "execution_count": null,
      "metadata": {
        "id": "hVmknXImqGiw"
      },
      "outputs": [],
      "source": [
        "plt.figure(figsize=(12, 6))\n",
        "plt.subplot(1, 2, 1)\n",
        "plt.plot(cnn_history.history['loss'], label='Training Loss')\n",
        "plt.plot(cnn_history.history['val_loss'], label='Validation Loss')\n",
        "plt.title('Training and Validation Loss')\n",
        "plt.xlabel('Epochs')\n",
        "plt.ylabel('Loss')\n",
        "plt.legend()\n",
        "\n",
        "plt.subplot(1, 2, 2)\n",
        "plt.plot(cnn_history.history['accuracy'], label='Training Accuracy')\n",
        "plt.plot(cnn_history.history['val_accuracy'], label='Validation Accuracy')\n",
        "plt.title('Training and Validation Accuracy')\n",
        "plt.xlabel('Epochs')\n",
        "plt.ylabel('Accuracy')\n",
        "plt.legend()\n",
        "\n",
        "plt.tight_layout()\n",
        "plt.show()"
      ]
    },
    {
      "cell_type": "code",
      "execution_count": null,
      "metadata": {
        "id": "MBoJ5ZTArYPg"
      },
      "outputs": [],
      "source": [
        "test_loss, test_accuracy = cnn_model.evaluate(X_test, y_test)\n",
        "print(\"Test Loss:\", test_loss)\n",
        "print(\"Test Accuracy:\", test_accuracy)"
      ]
    },
    {
      "cell_type": "code",
      "execution_count": null,
      "metadata": {
        "id": "plGrUJDFwkeA"
      },
      "outputs": [],
      "source": [
        "# Get predictions for the test set\n",
        "predictions_cnn = cnn_model.predict(X_test)\n",
        "predicted_labels_cnn = np.argmax(predictions_cnn, axis=1)"
      ]
    },
    {
      "cell_type": "code",
      "execution_count": null,
      "metadata": {
        "id": "cfcRsyZkwn8Q"
      },
      "outputs": [],
      "source": [
        "plt.figure(figsize=(10, 10))\n",
        "for i in range(25):\n",
        "    plt.subplot(5, 5, i + 1)\n",
        "    plt.xticks([])\n",
        "    plt.yticks([])\n",
        "    plt.grid(False)\n",
        "    plt.imshow(X_test[i])\n",
        "    true_label = class_names[y_test[i][0]]\n",
        "    predicted_label = class_names[predicted_labels_cnn[i]]\n",
        "    if true_label == predicted_label:\n",
        "        color = 'green'\n",
        "    else:\n",
        "        color = 'red'\n",
        "    plt.xlabel(f\"True: {true_label}\\nPred (CNN): {predicted_label}\", color=color)\n",
        "plt.tight_layout()\n",
        "plt.show()"
      ]
    },
    {
      "cell_type": "code",
      "execution_count": null,
      "metadata": {
        "id": "M8TLzMA2wwHw"
      },
      "outputs": [],
      "source": [
        "mat = confusion_matrix(y_test, predicted_labels_cnn)\n",
        "plt.figure(figsize=(8, 8)); sns.set()\n",
        "sns.heatmap(mat.T, square=True, annot=True, fmt='d', cbar=False, xticklabels=class_names, yticklabels=class_names)\n",
        "plt.xlabel('true label'); plt.ylabel('predicted label'); plt.show()"
      ]
    },
    {
      "cell_type": "code",
      "execution_count": null,
      "metadata": {
        "id": "YBbuOSzfwyWw"
      },
      "outputs": [],
      "source": [
        "print(classification_report(y_test, predicted_labels_cnn, target_names=class_names))"
      ]
    },
    {
      "cell_type": "markdown",
      "metadata": {
        "id": "Dxi7-TBT2PsE"
      },
      "source": [
        "## 3. Data Augmentation"
      ]
    },
    {
      "cell_type": "code",
      "execution_count": null,
      "metadata": {
        "id": "t36r1xrF5Mfr"
      },
      "outputs": [],
      "source": [
        "X_train_2, X_val, y_train_2, y_val = train_test_split(X_train, y_train, test_size=0.1, stratify=y_train, random_state=42)"
      ]
    },
    {
      "cell_type": "code",
      "execution_count": null,
      "metadata": {
        "id": "GN5qs3po2Cqp"
      },
      "outputs": [],
      "source": [
        "datagen = ImageDataGenerator(\n",
        "    rotation_range=10,\n",
        "    width_shift_range=0.05,\n",
        "    height_shift_range=0.05,\n",
        "    horizontal_flip=True)\n",
        "datagen.fit(X_train_2)"
      ]
    },
    {
      "cell_type": "code",
      "execution_count": null,
      "metadata": {
        "id": "2PgIOtdl2kap"
      },
      "outputs": [],
      "source": [
        "cnn_model_d = clone_model(cnn_model)\n",
        "\n",
        "optimizer = Adam(learning_rate=0.001)\n",
        "cnn_model_d.compile(optimizer=optimizer,\n",
        "              loss='sparse_categorical_crossentropy',\n",
        "              metrics=['accuracy'])\n",
        "\n",
        "cnn_model_d.summary()"
      ]
    },
    {
      "cell_type": "code",
      "execution_count": null,
      "metadata": {
        "colab": {
          "background_save": true
        },
        "id": "G1cDdUqq3Wdx"
      },
      "outputs": [],
      "source": [
        "cnn_d_history = cnn_model_d.fit(datagen.flow(X_train_2, y_train_2, batch_size=256),\n",
        "                    epochs=50,\n",
        "                    batch_size=256,\n",
        "                    validation_data=(X_val, y_val),\n",
        "                    callbacks=[EarlyStopping(monitor='val_loss', patience=10, min_delta=0.001, restore_best_weights=True),\n",
        "                    ReduceLROnPlateau(monitor='val_loss', factor=0.5, patience=5, min_lr=1e-7)])"
      ]
    },
    {
      "cell_type": "code",
      "execution_count": null,
      "metadata": {
        "id": "XAGhBNVz_-pb"
      },
      "outputs": [],
      "source": [
        "plt.figure(figsize=(12, 6))\n",
        "plt.subplot(1, 2, 1)\n",
        "plt.plot(cnn_d_history.history['loss'], label='Training Loss')\n",
        "plt.plot(cnn_d_history.history['val_loss'], label='Validation Loss')\n",
        "plt.title('Training and Validation Loss')\n",
        "plt.xlabel('Epochs')\n",
        "plt.ylabel('Loss')\n",
        "plt.legend()\n",
        "\n",
        "# Plot training and validation accuracy\n",
        "plt.subplot(1, 2, 2)\n",
        "plt.plot(cnn_d_history.history['accuracy'], label='Training Accuracy')\n",
        "plt.plot(cnn_d_history.history['val_accuracy'], label='Validation Accuracy')\n",
        "plt.title('Training and Validation Accuracy')\n",
        "plt.xlabel('Epochs')\n",
        "plt.ylabel('Accuracy')\n",
        "plt.legend()\n",
        "\n",
        "plt.tight_layout()\n",
        "plt.show()"
      ]
    },
    {
      "cell_type": "code",
      "execution_count": null,
      "metadata": {
        "id": "RPv7adSe4xFZ"
      },
      "outputs": [],
      "source": [
        "# Evaluate on test set (With Augmentation)\n",
        "test_loss, test_accuracy = cnn_model_d.evaluate(X_test, y_test)\n",
        "print(\"CNN Test Loss (Aug):\", test_loss)\n",
        "print(\"CNN Test Accuracy (Aug):\", test_accuracy)"
      ]
    },
    {
      "cell_type": "code",
      "execution_count": null,
      "metadata": {
        "id": "cxxaHfb2AN6C"
      },
      "outputs": [],
      "source": [
        "# Get predictions for the test set\n",
        "predictions_cnn_d = cnn_model_d.predict(X_test)\n",
        "predicted_labels_cnn_d = np.argmax(predictions_cnn_d, axis=1)"
      ]
    },
    {
      "cell_type": "code",
      "execution_count": null,
      "metadata": {
        "id": "fCULTK0CATtt"
      },
      "outputs": [],
      "source": [
        "# Plot sample images with predicted labels\n",
        "plt.figure(figsize=(10, 10))\n",
        "for i in range(25):  # Adjust as needed\n",
        "    plt.subplot(5, 5, i + 1)\n",
        "    plt.xticks([])\n",
        "    plt.yticks([])\n",
        "    plt.grid(False)\n",
        "    plt.imshow(X_test[i])  # Plot original image\n",
        "    true_label = class_names[y_test[i][0]]  # Get true label\n",
        "    predicted_label = class_names[predicted_labels_cnn_d[i]]  # Get predicted label\n",
        "    if true_label == predicted_label:\n",
        "        color = 'green'  # Correct prediction\n",
        "    else:\n",
        "        color = 'red'  # Incorrect prediction\n",
        "    plt.xlabel(f\"True: {true_label}\\nPred (CNN): {predicted_label}\", color=color)\n",
        "plt.tight_layout()  # Adjust subplot layout to prevent overlap\n",
        "plt.show()"
      ]
    },
    {
      "cell_type": "code",
      "execution_count": null,
      "metadata": {
        "id": "aroNM0LxAXfK"
      },
      "outputs": [],
      "source": [
        "mat = confusion_matrix(y_test, predicted_labels_cnn_d)\n",
        "plt.figure(figsize=(8, 8)); sns.set()\n",
        "sns.heatmap(mat.T, square=True, annot=True, fmt='d', cbar=False, xticklabels=np.unique(y_test), yticklabels=np.unique(y_test))\n",
        "plt.xlabel('true label'); plt.ylabel('predicted label'); plt.show()"
      ]
    },
    {
      "cell_type": "code",
      "execution_count": null,
      "metadata": {
        "id": "u2MleaonAb4K"
      },
      "outputs": [],
      "source": [
        "print(classification_report(y_test, predicted_labels_cnn_d, target_names=class_names))"
      ]
    }
  ],
  "metadata": {
    "accelerator": "GPU",
    "colab": {
      "gpuType": "T4",
      "provenance": []
    },
    "kernelspec": {
      "display_name": "Python 3",
      "name": "python3"
    },
    "language_info": {
      "name": "python"
    }
  },
  "nbformat": 4,
  "nbformat_minor": 0
}